{
 "cells": [
  {
   "cell_type": "code",
   "execution_count": 26,
   "metadata": {
    "collapsed": false
   },
   "outputs": [],
   "source": [
    "%matplotlib inline\n",
    "import matplotlib.pyplot as plt\n",
    "\n",
    "import math\n",
    "from scipy.stats import itemfreq, chisquare, kstest, norm, triang\n",
    "from scipy.misc import comb\n",
    "import scipy.integrate as integrate\n",
    "import numpy as np\n",
    "import sys\n",
    "sys.path.append('../../prngs-and-permutations/Code/modules')\n",
    "from sha256prng import SHA256\n"
   ]
  },
  {
   "cell_type": "markdown",
   "metadata": {},
   "source": [
    "# Equidistribution tests\n",
    "\n",
    "## Tests based on binning the PRNs\n",
    "\n",
    "Let's generate 10^7 PRNs. We'll scale them by 1000 and take the floor -- effectively, we're looking at only the first 3 digits of the PRNs.  Then, we can tally up how many of each occurs and do the chi-squared test and range test on these counts."
   ]
  },
  {
   "cell_type": "code",
   "execution_count": 20,
   "metadata": {
    "collapsed": false
   },
   "outputs": [],
   "source": [
    "ss = 100 # seed value\n",
    "prng = SHA256(ss)\n",
    "\n",
    "prns = [prng.random() for i in range(10**7)]"
   ]
  },
  {
   "cell_type": "code",
   "execution_count": 21,
   "metadata": {
    "collapsed": false
   },
   "outputs": [
    {
     "data": {
      "text/plain": [
       "0.51270388844059278"
      ]
     },
     "execution_count": 21,
     "metadata": {},
     "output_type": "execute_result"
    }
   ],
   "source": [
    "def conductChisqTest(sequence, multiplier=2**10):\n",
    "    '''\n",
    "    Given a sequence of U(0,1) values, bin values by scaling by multiplier and taking the floor.\n",
    "    Then conduct a chi-squared test for uniformity on these categories.\n",
    "    '''\n",
    "    \n",
    "    bins = [int(np.floor(val*multiplier)) for val in sequence]\n",
    "    res = chisquare(itemfreq(bins)[:,1])\n",
    "    return(res[1])\n",
    "\n",
    "conductChisqTest(prns, 2**10)"
   ]
  },
  {
   "cell_type": "code",
   "execution_count": 23,
   "metadata": {
    "collapsed": false,
    "scrolled": true
   },
   "outputs": [
    {
     "data": {
      "text/plain": [
       "0.09078101173369801"
      ]
     },
     "execution_count": 23,
     "metadata": {},
     "output_type": "execute_result"
    }
   ],
   "source": [
    "\n",
    "def distrNormalRange(w, n):\n",
    "    '''\n",
    "    The CDF of the range of n IID standard normals evaluated at w\n",
    "    '''\n",
    "    innerInt = lambda x: norm.pdf(x)*(norm.cdf(x+w) - norm.cdf(x))**(n-1)\n",
    "    tmp = integrate.quad(innerInt, -2*w, 2*w)\n",
    "    if n*tmp[0] > 1:\n",
    "        return n*(tmp[0] - tmp[1])\n",
    "    else:\n",
    "        return n*tmp[0]\n",
    "\n",
    "def distrMultinomialRange(w, n, k):\n",
    "    '''\n",
    "    CDF of the range of multinomial variables, evaluated at w\n",
    "    n draws, k categories each having probability 1/k\n",
    "    '''\n",
    "    cutoff = (w - 1/(2*n))*np.sqrt(k/n)\n",
    "    return distrNormalRange(cutoff, k)\n",
    "\n",
    "def conductRangeTest(sequence, multiplier=2**10):\n",
    "    bins = [int(np.floor(val*multiplier)) for val in sequence]\n",
    "    counts = itemfreq(bins)[:,1]\n",
    "    return 1 - distrMultinomialRange(np.ptp(counts), np.sum(counts), len(counts))\n",
    "\n",
    "conductRangeTest(prns)"
   ]
  },
  {
   "cell_type": "markdown",
   "metadata": {},
   "source": [
    "Let's do the same thing for the randint method:"
   ]
  },
  {
   "cell_type": "code",
   "execution_count": 24,
   "metadata": {
    "collapsed": false
   },
   "outputs": [
    {
     "name": "stdout",
     "output_type": "stream",
     "text": [
      "Chi-squared test:0.89855453013\n",
      "Range test: 0.8910682080071386\n"
     ]
    }
   ],
   "source": [
    "ss = 100 # seed value\n",
    "prng = SHA256(ss)\n",
    "\n",
    "prns = [prng.randint(1, 21) for i in range(10**7)]\n",
    "print(\"Chi-squared test:\" + str(conductChisqTest(prns, multiplier = 1)))\n",
    "print(\"Range test: \" + str(conductRangeTest(prns, multiplier = 1)))"
   ]
  },
  {
   "cell_type": "markdown",
   "metadata": {},
   "source": [
    "And we'll do it again, taking modulus instead of floor:"
   ]
  },
  {
   "cell_type": "code",
   "execution_count": 25,
   "metadata": {
    "collapsed": false
   },
   "outputs": [
    {
     "name": "stdout",
     "output_type": "stream",
     "text": [
      "Chi-squared test:0.480790370691\n",
      "Range test: 0.6811907587409376\n"
     ]
    }
   ],
   "source": [
    "ss = 100 # seed value\n",
    "prng = SHA256(ss)\n",
    "\n",
    "prns = [int(prng.nextRandom() % 13) for i in range(10**7)]\n",
    "print(\"Chi-squared test:\" + str(conductChisqTest(prns, multiplier = 1)))\n",
    "print(\"Range test: \" + str(conductRangeTest(prns, multiplier = 1)))"
   ]
  },
  {
   "cell_type": "markdown",
   "metadata": {},
   "source": [
    "## Kolmogorov-Smirnov test"
   ]
  },
  {
   "cell_type": "code",
   "execution_count": 11,
   "metadata": {
    "collapsed": true
   },
   "outputs": [],
   "source": [
    "ss = 100 # seed value\n",
    "prng = SHA256(ss)\n",
    "\n",
    "prns = prng.random(10**7)"
   ]
  },
  {
   "cell_type": "code",
   "execution_count": 12,
   "metadata": {
    "collapsed": false
   },
   "outputs": [
    {
     "data": {
      "text/plain": [
       "KstestResult(statistic=0.00044107848612390255, pvalue=0.04084928509400116)"
      ]
     },
     "execution_count": 12,
     "metadata": {},
     "output_type": "execute_result"
    }
   ],
   "source": [
    "kstest(prns, 'uniform')"
   ]
  },
  {
   "cell_type": "code",
   "execution_count": 13,
   "metadata": {
    "collapsed": false
   },
   "outputs": [
    {
     "data": {
      "image/png": "[encoded data removed]",
      "text/plain": [
       "<matplotlib.figure.Figure at 0x1042cacc0>"
      ]
     },
     "metadata": {},
     "output_type": "display_data"
    }
   ],
   "source": [
    "plt.hist(prns, bins = 100)\n",
    "plt.show()"
   ]
  },
  {
   "cell_type": "markdown",
   "metadata": {},
   "source": [
    "Let's do a KS test for the difference between consecutive PRNs.  If, under the null, they are IID uniform(0,1), then the differences between consecutive values should be IID triangular with distribution\n",
    "\n",
    "$$\\mathbb{P}(U_1 - U_2 \\leq y) = -\\frac{sign(y)}{2}y^2 + y + \\frac{1}{2}$$"
   ]
  },
  {
   "cell_type": "code",
   "execution_count": 14,
   "metadata": {
    "collapsed": false
   },
   "outputs": [
    {
     "data": {
      "text/plain": [
       "KstestResult(statistic=0.00022022401190403829, pvalue=0.7172039453555028)"
      ]
     },
     "execution_count": 14,
     "metadata": {},
     "output_type": "execute_result"
    }
   ],
   "source": [
    "first_differences = prns[1:] - prns[:len(prns)-1]\n",
    "kstest(first_differences, lambda x: triang.cdf(x, c = 0.5, loc = -1, scale = 2))"
   ]
  },
  {
   "cell_type": "markdown",
   "metadata": {},
   "source": [
    "# Serial tests\n",
    "\n",
    "We'll use a chi-squared test to count how often pairs of integers occur."
   ]
  },
  {
   "cell_type": "code",
   "execution_count": 15,
   "metadata": {
    "collapsed": false
   },
   "outputs": [],
   "source": [
    "ss = 100 # seed value\n",
    "prng = SHA256(ss)\n",
    "\n",
    "bin_counts = [str(np.floor(prng.random()*100)) + \",\" + str(np.floor(prng.random()*100)) for i in range(int(10**7/2))]"
   ]
  },
  {
   "cell_type": "code",
   "execution_count": 16,
   "metadata": {
    "collapsed": false
   },
   "outputs": [
    {
     "name": "stdout",
     "output_type": "stream",
     "text": [
      "['20.0,90.0', '93.0,43.0', '84.0,74.0', '76.0,62.0', '67.0,3.0']\n"
     ]
    },
    {
     "data": {
      "text/plain": [
       "Power_divergenceResult(statistic=10152.828, pvalue=0.13852676704983599)"
      ]
     },
     "execution_count": 16,
     "metadata": {},
     "output_type": "execute_result"
    }
   ],
   "source": [
    "print(bin_counts[:5])\n",
    "bin_counts = itemfreq(bin_counts)\n",
    "chisquare(bin_counts[:,1].astype('int'))"
   ]
  },
  {
   "cell_type": "markdown",
   "metadata": {},
   "source": [
    "# Gap test\n",
    "\n",
    "For values $\\alpha < \\beta$, we say that a gap of length $r$ occurs when $U_j$ and $U_{j+r-1}$ lie in the interval $(\\alpha,\\beta)$ but $U_{j+1}, \\dots, U_{j + r - 2}$ do not. We want to count the number of gaps of size $0$, $1,$ up to size $t$ for some reasonable value.\n",
    "\n",
    "This is slightly different from Knuth's version.  He proposes generating random numbers until $n$ gaps are observed.  Instead, I will fix the sequence length and count how many gaps occur.  Then I'll condition on that number of gaps (same as the number of items in the range $(\\alpha, \\beta)$) to generate expected counts for each gap length."
   ]
  },
  {
   "cell_type": "code",
   "execution_count": 17,
   "metadata": {
    "collapsed": true
   },
   "outputs": [],
   "source": [
    "def gap_test(sequence, alpha, beta, t):\n",
    "    '''\n",
    "    inputs:\n",
    "    sequence = sequence of numbers between 0 and 1\n",
    "    alpha    = lower limit of interval\n",
    "    beta     = upper limit of interval\n",
    "    t        = max gap size (anything with gap larger than t will fall in the last category)\n",
    "    '''\n",
    "    # check\n",
    "    assert alpha >= 0\n",
    "    assert beta <= 1\n",
    "    assert alpha < beta\n",
    "    \n",
    "    # initialize\n",
    "    count = [0 for r in range(t+1)]\n",
    "    r = 0\n",
    "    n = len(sequence)\n",
    "    \n",
    "    # count gaps of size 0, 1, ..., >=t\n",
    "    for j in range(n):\n",
    "        if sequence[j] >= alpha and sequence[j] < beta:\n",
    "            if r >= t:\n",
    "                count[t] += 1\n",
    "            else:\n",
    "                count[r] += 1\n",
    "            r = 0\n",
    "        else:\n",
    "            r += 1\n",
    "            \n",
    "    # conduct chi-square test\n",
    "    p = beta-alpha\n",
    "    conditional_n = sum(count)\n",
    "    expected = [conditional_n*p*(1-p)**power for power in range(t)]\n",
    "    expected.append(conditional_n*(1-p)**t)\n",
    "    return {'observed' :  count,\n",
    "            'expected' : expected,\n",
    "            'chisquare' : chisquare(count, expected)}"
   ]
  },
  {
   "cell_type": "code",
   "execution_count": 18,
   "metadata": {
    "collapsed": false
   },
   "outputs": [
    {
     "data": {
      "text/plain": [
       "{'chisquare': Power_divergenceResult(statistic=9.0369556501017989, pvalue=0.10759916937143836),\n",
       " 'expected': [2501539.0,\n",
       "  1250769.5,\n",
       "  625384.75,\n",
       "  312692.375,\n",
       "  156346.1875,\n",
       "  156346.1875],\n",
       " 'observed': [2503061, 1250943, 624622, 312060, 156857, 155535]}"
      ]
     },
     "execution_count": 18,
     "metadata": {},
     "output_type": "execute_result"
    }
   ],
   "source": [
    "ss = 100 # seed value\n",
    "prng = SHA256(ss)\n",
    "\n",
    "prns = prng.random(10**7)\n",
    "gap_test(prns, 0.25, 0.75, 5)"
   ]
  },
  {
   "cell_type": "markdown",
   "metadata": {},
   "source": [
    "# Coupon collector's test\n",
    "\n",
    "This test analyzes the number $r$ of items in the sequence $Y_j, Y_{j+1}, \\dots, Y_{j+r}$ (where $Y_j = \\lfloor d U_j \\rfloor$) to obtain all each of the integers $\\{0, 1, \\dots, d-1\\}$ at least once."
   ]
  },
  {
   "cell_type": "code",
   "execution_count": 33,
   "metadata": {
    "collapsed": false
   },
   "outputs": [
    {
     "name": "stderr",
     "output_type": "stream",
     "text": [
      "/Library/Frameworks/Python.framework/Versions/3.4/lib/python3.4/site-packages/scipy/stats/stats.py:4350: RuntimeWarning: invalid value encountered in true_divide\n",
      "  terms = (f_obs - f_exp)**2 / f_exp\n"
     ]
    },
    {
     "data": {
      "text/plain": [
       "{'chisquare': Power_divergenceResult(statistic=nan, pvalue=nan),\n",
       " 'expected': [0,\n",
       "  0,\n",
       "  0,\n",
       "  0,\n",
       "  0,\n",
       "  33622.963199999998,\n",
       "  33622.963199999998,\n",
       "  20173.77792,\n",
       "  9414.4296959999992,\n",
       "  3765.7718783999999,\n",
       "  774998.09410560003],\n",
       " 'observed': [0, 0, 0, 0, 0, 33842, 67151, 87353, 93973, 91474, 501805]}"
      ]
     },
     "execution_count": 33,
     "metadata": {},
     "output_type": "execute_result"
    }
   ],
   "source": [
    "def coupontest(sequence, d, t):\n",
    "    '''\n",
    "    Given a sequence of U(0,1) values, converts to integer values on {0, 1, ..., d-1}\n",
    "    and tests the length of 'runs' needed to hit each integer at least once.\n",
    "    The max run length considered is t.\n",
    "    '''\n",
    "\n",
    "    assert t >= d\n",
    "    \n",
    "    # convert to integer PRNs\n",
    "    sequence = [int(np.floor(d*val)) for val in sequence]\n",
    "    \n",
    "    # initialize\n",
    "    count = [0 for i in range(t+1)]\n",
    "    occurs = [0 for k in range(d)]\n",
    "    q = 0\n",
    "    r = 0\n",
    "    n = len(sequence)\n",
    "    \n",
    "    for j in range(n):\n",
    "        r += 1\n",
    "        if occurs[sequence[j]] == 0:\n",
    "            occurs[sequence[j]] = 1\n",
    "            q += 1\n",
    "            if q == d:\n",
    "                if r >= t:\n",
    "                    count[t] += 1\n",
    "                else:\n",
    "                    count[r] += 1\n",
    "                q = 0\n",
    "                r = 0\n",
    "                occurs = [0 for k in range(d)]\n",
    "        j += 1\n",
    "        \n",
    "    expected = [0 for i in range(t+1)]\n",
    "    conditional_n = sum(count)\n",
    "    expected[d:t] = [conditional_n*comb(r-1, d-1)*math.factorial(d)/d**r for r in range(d, t)]\n",
    "    expected[t] = conditional_n - sum(expected)\n",
    "    return {'observed' :  count,\n",
    "            'expected' : expected,\n",
    "            'chisquare' : chisquare(count, expected)}    \n",
    "\n",
    "\n",
    "\n",
    "\n",
    "ss = 100 # seed value\n",
    "prng = SHA256(ss)\n",
    "\n",
    "prns = [prng.random() for i in range(10**7)]\n",
    "coupontest(prns, d=5, t=10) \n",
    "    "
   ]
  },
  {
   "cell_type": "markdown",
   "metadata": {},
   "source": [
    "# Permutation test\n",
    "\n",
    "This test looks at orderings of $t$-tuples $(U_{jt}, U_{jt + 1}, \\dots, U_{jt + t - 1})$ for $0 \\leq j < t$. In each tuple, there are $t!$ possible orderings."
   ]
  },
  {
   "cell_type": "code",
   "execution_count": 38,
   "metadata": {
    "collapsed": false
   },
   "outputs": [
    {
     "data": {
      "text/plain": [
       "0.89018642575361739"
      ]
     },
     "execution_count": 38,
     "metadata": {},
     "output_type": "execute_result"
    }
   ],
   "source": [
    "def conductPermTest(sequence, tuplelen):\n",
    "    '''\n",
    "    Break sequence into tuples of length tuplelen. Find the ordering of each tuple, and do a chi-squared test.\n",
    "    Under the null, each ordering has equal probability.\n",
    "    '''\n",
    "    \n",
    "    nperms = np.floor(len(sequence)/tuplelen)\n",
    "    counts = dict()\n",
    "    \n",
    "    for j in range(int(nperms)):\n",
    "        f = str(np.argsort(sequence[(j*tuplelen):(j*tuplelen + tuplelen )]))\n",
    "        if f in counts.keys():\n",
    "            counts[f] += 1\n",
    "        else:\n",
    "            counts[f] = 1\n",
    "    return chisquare(list(counts.values()))[1]\n",
    "\n",
    "conductPermTest(prns[:10**5], 3)"
   ]
  },
  {
   "cell_type": "code",
   "execution_count": 39,
   "metadata": {
    "collapsed": false
   },
   "outputs": [
    {
     "data": {
      "text/plain": [
       "0.88118850215850031"
      ]
     },
     "execution_count": 39,
     "metadata": {},
     "output_type": "execute_result"
    }
   ],
   "source": [
    "conductPermTest(prns[:10**5], 5)"
   ]
  },
  {
   "cell_type": "code",
   "execution_count": null,
   "metadata": {
    "collapsed": true
   },
   "outputs": [],
   "source": []
  }
 ],
 "metadata": {
  "kernelspec": {
   "display_name": "Python 3",
   "language": "python",
   "name": "python3"
  },
  "language_info": {
   "codemirror_mode": {
    "name": "ipython",
    "version": 3
   },
   "file_extension": ".py",
   "mimetype": "text/x-python",
   "name": "python",
   "nbconvert_exporter": "python",
   "pygments_lexer": "ipython3",
   "version": "3.4.3"
  }
 },
 "nbformat": 4,
 "nbformat_minor": 1
}
