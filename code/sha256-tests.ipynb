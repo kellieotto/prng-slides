{
 "cells": [
  {
   "cell_type": "code",
   "execution_count": 26,
   "metadata": {
    "collapsed": false
   },
   "outputs": [],
   "source": [
    "%matplotlib inline\n",
    "import matplotlib.pyplot as plt\n",
    "    \n",
    "from scipy.stats import itemfreq, chisquare, kstest, norm\n",
    "import scipy.integrate as integrate\n",
    "import numpy as np\n",
    "import sys\n",
    "sys.path.append('../../prngs-and-permutations/Code/modules')\n",
    "from sha256prng import SHA256\n",
    "\n",
    "def distrNormalRange(w, n):\n",
    "    '''\n",
    "    The CDF of the range of n IID standard normals evaluated at w\n",
    "    '''\n",
    "    innerInt = lambda x: norm.pdf(x)*(norm.cdf(x+w) - norm.cdf(x))**(n-1)\n",
    "    tmp = integrate.quad(innerInt, -2*w, 2*w)\n",
    "    if n*tmp[0] > 1:\n",
    "        return n*(tmp[0] - tmp[1])\n",
    "    else:\n",
    "        return n*tmp[0]\n",
    "\n",
    "def distrMultinomialRange(w, n, k):\n",
    "    '''\n",
    "    CDF of the range of multinomial variables, evaluated at w\n",
    "    n draws, k categories each having probability 1/k\n",
    "    '''\n",
    "    cutoff = (w - 1/(2*n))*np.sqrt(k/n)\n",
    "    return distrNormalRange(cutoff, k)\n",
    "\n",
    "def conductRangeTest(counts):\n",
    "    return 1 - distrMultinomialRange(np.ptp(counts), np.sum(counts), len(counts))\n"
   ]
  },
  {
   "cell_type": "markdown",
   "metadata": {},
   "source": [
    "# Equidistribution tests\n",
    "\n",
    "## Tests based on binning the PRNs\n",
    "\n",
    "Let's generate 10^7 PRNs. We'll scale them by 1000 and take the floor -- effectively, we're looking at only the first 3 digits of the PRNs.  Then, we can tally up how many of each occurs and do the chi-squared test and range test on these counts."
   ]
  },
  {
   "cell_type": "code",
   "execution_count": 5,
   "metadata": {
    "collapsed": false
   },
   "outputs": [],
   "source": [
    "ss = 100 # seed value\n",
    "prng = SHA256(ss)\n",
    "\n",
    "bin_counts = [int(np.floor(prng.random()*1000)) for i in range(10**7)]"
   ]
  },
  {
   "cell_type": "code",
   "execution_count": 9,
   "metadata": {
    "collapsed": false
   },
   "outputs": [
    {
     "data": {
      "text/plain": [
       "Power_divergenceResult(statistic=985.93920000000003, pvalue=0.609703394705852)"
      ]
     },
     "execution_count": 9,
     "metadata": {},
     "output_type": "execute_result"
    }
   ],
   "source": [
    "chisquare(itemfreq(bin_counts)[:,1])"
   ]
  },
  {
   "cell_type": "code",
   "execution_count": 15,
   "metadata": {
    "collapsed": false,
    "scrolled": true
   },
   "outputs": [
    {
     "data": {
      "text/plain": [
       "0.3871586650604306"
      ]
     },
     "execution_count": 15,
     "metadata": {},
     "output_type": "execute_result"
    }
   ],
   "source": [
    "conductRangeTest(itemfreq(bin_counts)[:,1])"
   ]
  },
  {
   "cell_type": "markdown",
   "metadata": {},
   "source": [
    "Let's do the same thing for the randint method:"
   ]
  },
  {
   "cell_type": "code",
   "execution_count": 16,
   "metadata": {
    "collapsed": true
   },
   "outputs": [],
   "source": [
    "ss = 100 # seed value\n",
    "prng = SHA256(ss)\n",
    "\n",
    "bin_counts = [prng.randint(1, 21) for i in range(10**7)]"
   ]
  },
  {
   "cell_type": "code",
   "execution_count": 17,
   "metadata": {
    "collapsed": false
   },
   "outputs": [
    {
     "data": {
      "text/plain": [
       "Power_divergenceResult(statistic=11.687260000000002, pvalue=0.89855453012962583)"
      ]
     },
     "execution_count": 17,
     "metadata": {},
     "output_type": "execute_result"
    }
   ],
   "source": [
    "chisquare(itemfreq(bin_counts)[:,1])"
   ]
  },
  {
   "cell_type": "code",
   "execution_count": 18,
   "metadata": {
    "collapsed": false
   },
   "outputs": [
    {
     "data": {
      "text/plain": [
       "0.8910682080071386"
      ]
     },
     "execution_count": 18,
     "metadata": {},
     "output_type": "execute_result"
    }
   ],
   "source": [
    "conductRangeTest(itemfreq(bin_counts)[:,1])"
   ]
  },
  {
   "cell_type": "markdown",
   "metadata": {},
   "source": [
    "And we'll do it again, taking modulus instead of floor:"
   ]
  },
  {
   "cell_type": "code",
   "execution_count": 20,
   "metadata": {
    "collapsed": false
   },
   "outputs": [],
   "source": [
    "ss = 100 # seed value\n",
    "prng = SHA256(ss)\n",
    "\n",
    "bin_counts = [int(prng.nextRandom() % 13) for i in range(10**7)]"
   ]
  },
  {
   "cell_type": "code",
   "execution_count": 21,
   "metadata": {
    "collapsed": false
   },
   "outputs": [
    {
     "data": {
      "text/plain": [
       "Power_divergenceResult(statistic=11.5701304, pvalue=0.48079037069126962)"
      ]
     },
     "execution_count": 21,
     "metadata": {},
     "output_type": "execute_result"
    }
   ],
   "source": [
    "chisquare(itemfreq(bin_counts)[:,1])"
   ]
  },
  {
   "cell_type": "code",
   "execution_count": 22,
   "metadata": {
    "collapsed": false,
    "scrolled": true
   },
   "outputs": [
    {
     "data": {
      "text/plain": [
       "0.6811907587409376"
      ]
     },
     "execution_count": 22,
     "metadata": {},
     "output_type": "execute_result"
    }
   ],
   "source": [
    "conductRangeTest(itemfreq(bin_counts)[:,1])"
   ]
  },
  {
   "cell_type": "markdown",
   "metadata": {},
   "source": [
    "## Kolmogorov-Smirnov test"
   ]
  },
  {
   "cell_type": "code",
   "execution_count": 38,
   "metadata": {
    "collapsed": true
   },
   "outputs": [],
   "source": [
    "ss = 100 # seed value\n",
    "prng = SHA256(ss)\n",
    "\n",
    "prns = prng.random(10**7)"
   ]
  },
  {
   "cell_type": "code",
   "execution_count": 39,
   "metadata": {
    "collapsed": false
   },
   "outputs": [
    {
     "data": {
      "text/plain": [
       "KstestResult(statistic=0.00044107848612390255, pvalue=0.04084928509400116)"
      ]
     },
     "execution_count": 39,
     "metadata": {},
     "output_type": "execute_result"
    }
   ],
   "source": [
    "kstest(prns, 'uniform')"
   ]
  },
  {
   "cell_type": "code",
   "execution_count": 40,
   "metadata": {
    "collapsed": false
   },
   "outputs": [
    {
     "data": {
      "image/png": "[encoded data removed]",
      "text/plain": [
       "<matplotlib.figure.Figure at 0x111bb9198>"
      ]
     },
     "metadata": {},
     "output_type": "display_data"
    }
   ],
   "source": [
    "plt.hist(prns, bins = 100)\n",
    "plt.show()"
   ]
  },
  {
   "cell_type": "markdown",
   "metadata": {},
   "source": [
    "# Serial tests\n",
    "\n",
    "We'll use a chi-squared test to count how often pairs of integers occur."
   ]
  },
  {
   "cell_type": "code",
   "execution_count": 50,
   "metadata": {
    "collapsed": false
   },
   "outputs": [],
   "source": [
    "ss = 100 # seed value\n",
    "prng = SHA256(ss)\n",
    "\n",
    "bin_counts = [str(np.floor(prng.random()*100)) + \",\" + str(np.floor(prng.random()*100)) for i in range(int(10**7/2))]"
   ]
  },
  {
   "cell_type": "code",
   "execution_count": 51,
   "metadata": {
    "collapsed": false
   },
   "outputs": [
    {
     "name": "stdout",
     "output_type": "stream",
     "text": [
      "['20.0,90.0', '93.0,43.0', '84.0,74.0', '76.0,62.0', '67.0,3.0']\n"
     ]
    },
    {
     "data": {
      "text/plain": [
       "Power_divergenceResult(statistic=10152.828, pvalue=0.13852676704983599)"
      ]
     },
     "execution_count": 51,
     "metadata": {},
     "output_type": "execute_result"
    }
   ],
   "source": [
    "print(bin_counts[:5])\n",
    "bin_counts = itemfreq(bin_counts)\n",
    "chisquare(bin_counts[:,1].astype('int'))"
   ]
  },
  {
   "cell_type": "markdown",
   "metadata": {},
   "source": [
    "# Gap test\n",
    "\n",
    "For values $\\alpha < \\beta$, we say that a gap of length $r$ occurs when $U_j$ and $U_{j+r-1}$ lie in the interval $(\\alpha,\\beta)$ but $U_{j+1}, \\dots, U_{j + r - 2}$ do not. We want to count the number of gaps of size $0$, $1,$ up to size $t$ for some reasonable value.\n",
    "\n",
    "This is slightly different from Knuth's version.  He proposes generating random numbers until $n$ gaps are observed.  Instead, I will fix the sequence length and count how many gaps occur.  Then I'll condition on that number of gaps (same as the number of items in the range $(\\alpha, \\beta)$) to generate expected counts for each gap length."
   ]
  },
  {
   "cell_type": "code",
   "execution_count": 63,
   "metadata": {
    "collapsed": true
   },
   "outputs": [],
   "source": [
    "def gap_test(sequence, alpha, beta, t):\n",
    "    '''\n",
    "    inputs:\n",
    "    sequence = sequence of numbers between 0 and 1\n",
    "    alpha    = lower limit of interval\n",
    "    beta     = upper limit of interval\n",
    "    t        = max gap size (anything with gap larger than t will fall in the last category)\n",
    "    '''\n",
    "    # check\n",
    "    assert alpha >= 0\n",
    "    assert beta <= 1\n",
    "    assert alpha < beta\n",
    "    \n",
    "    # initialize\n",
    "    count = [0 for r in range(t+1)]\n",
    "    r = 0\n",
    "    n = len(sequence)\n",
    "    \n",
    "    # count gaps of size 0, 1, ..., >=t\n",
    "    for j in range(n):\n",
    "        if sequence[j] >= alpha and sequence[j] < beta:\n",
    "            if r >= t:\n",
    "                count[t] += 1\n",
    "            else:\n",
    "                count[r] += 1\n",
    "            r = 0\n",
    "        else:\n",
    "            r += 1\n",
    "            \n",
    "    # conduct chi-square test\n",
    "    p = beta-alpha\n",
    "    conditional_n = sum(count)\n",
    "    expected = [conditional_n*p*(1-p)**power for power in range(t)]\n",
    "    expected.append(conditional_n*(1-p)**t)\n",
    "    return {'observed' :  count,\n",
    "            'expected' : expected,\n",
    "            'chisquare' : chisquare(count, expected)}"
   ]
  },
  {
   "cell_type": "code",
   "execution_count": 64,
   "metadata": {
    "collapsed": false
   },
   "outputs": [
    {
     "data": {
      "text/plain": [
       "{'chisquare': Power_divergenceResult(statistic=8.9111111111111114, pvalue=0.1126625960831215),\n",
       " 'expected': [247.5, 123.75, 61.875, 30.9375, 15.46875, 15.46875],\n",
       " 'observed': [252, 109, 71, 39, 8, 16]}"
      ]
     },
     "execution_count": 64,
     "metadata": {},
     "output_type": "execute_result"
    }
   ],
   "source": [
    "ss = 100 # seed value\n",
    "prng = SHA256(ss)\n",
    "\n",
    "prns = prng.random(10**3)\n",
    "gap_test(prns, 0.25, 0.75, 5)"
   ]
  },
  {
   "cell_type": "markdown",
   "metadata": {},
   "source": [
    "# Partition (Poker) test"
   ]
  },
  {
   "cell_type": "code",
   "execution_count": null,
   "metadata": {
    "collapsed": true
   },
   "outputs": [],
   "source": []
  }
 ],
 "metadata": {
  "kernelspec": {
   "display_name": "Python 3",
   "language": "python",
   "name": "python3"
  },
  "language_info": {
   "codemirror_mode": {
    "name": "ipython",
    "version": 3
   },
   "file_extension": ".py",
   "mimetype": "text/x-python",
   "name": "python",
   "nbconvert_exporter": "python",
   "pygments_lexer": "ipython3",
   "version": "3.4.3"
  }
 },
 "nbformat": 4,
 "nbformat_minor": 1
}
