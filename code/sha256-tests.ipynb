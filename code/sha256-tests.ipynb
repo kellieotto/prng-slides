{
 "cells": [
  {
   "cell_type": "code",
   "execution_count": 1,
   "metadata": {
    "collapsed": false
   },
   "outputs": [],
   "source": [
    "%matplotlib inline\n",
    "import matplotlib.pyplot as plt\n",
    "\n",
    "import math\n",
    "from scipy.stats import itemfreq, chisquare, kstest, norm, triang\n",
    "from scipy.misc import comb\n",
    "import scipy.integrate as integrate\n",
    "import numpy as np\n",
    "import sys\n",
    "sys.path.append('../../prngs-and-permutations/Code/modules')\n",
    "from sha256prng import SHA256\n",
    "import pandas as pd"
   ]
  },
  {
   "cell_type": "markdown",
   "metadata": {},
   "source": [
    "# Equidistribution tests\n",
    "\n",
    "## Tests based on binning the PRNs\n",
    "\n",
    "Let's generate 10^7 PRNs. We'll scale them by 1000 and take the floor -- effectively, we're looking at only the first 3 digits of the PRNs.  Then, we can tally up how many of each occurs and do the chi-squared test and range test on these counts."
   ]
  },
  {
   "cell_type": "code",
   "execution_count": 2,
   "metadata": {
    "collapsed": false
   },
   "outputs": [],
   "source": [
    "ss = 100 # seed value\n",
    "prng = SHA256(ss)\n",
    "\n",
    "prns = [prng.random() for i in range(10**7)]"
   ]
  },
  {
   "cell_type": "code",
   "execution_count": 3,
   "metadata": {
    "collapsed": false
   },
   "outputs": [],
   "source": [
    "def conductChisqTest(sequence, multiplier=2**10):\n",
    "    '''\n",
    "    Given a sequence of U(0,1) values, bin values by scaling by multiplier and taking the floor.\n",
    "    Then conduct a chi-squared test for uniformity on these categories.\n",
    "    '''\n",
    "    \n",
    "    bins = [int(np.floor(val*multiplier)) for val in sequence]\n",
    "    res = chisquare(itemfreq(bins)[:,1])\n",
    "    return(res[1])\n",
    "\n",
    "#conductChisqTest(prns, 2**10)"
   ]
  },
  {
   "cell_type": "code",
   "execution_count": 4,
   "metadata": {
    "collapsed": false,
    "scrolled": true
   },
   "outputs": [],
   "source": [
    "\n",
    "def distrNormalRange(w, n):\n",
    "    '''\n",
    "    The CDF of the range of n IID standard normals evaluated at w\n",
    "    '''\n",
    "    innerInt = lambda x: norm.pdf(x)*(norm.cdf(x+w) - norm.cdf(x))**(n-1)\n",
    "    tmp = integrate.quad(innerInt, -2*w, 2*w)\n",
    "    if n*tmp[0] > 1:\n",
    "        return n*(tmp[0] - tmp[1])\n",
    "    else:\n",
    "        return n*tmp[0]\n",
    "\n",
    "def distrMultinomialRange(w, n, k):\n",
    "    '''\n",
    "    CDF of the range of multinomial variables, evaluated at w\n",
    "    n draws, k categories each having probability 1/k\n",
    "    '''\n",
    "    cutoff = (w - 1/(2*n))*np.sqrt(k/n)\n",
    "    return distrNormalRange(cutoff, k)\n",
    "\n",
    "def conductRangeTest(sequence, multiplier=2**10):\n",
    "    bins = [int(np.floor(val*multiplier)) for val in sequence]\n",
    "    counts = itemfreq(bins)[:,1]\n",
    "    return 1 - distrMultinomialRange(np.ptp(counts), np.sum(counts), len(counts))\n",
    "\n",
    "#conductRangeTest(prns)"
   ]
  },
  {
   "cell_type": "markdown",
   "metadata": {},
   "source": [
    "Let's do the same thing for the randint method:"
   ]
  },
  {
   "cell_type": "code",
   "execution_count": 5,
   "metadata": {
    "collapsed": false
   },
   "outputs": [
    {
     "name": "stdout",
     "output_type": "stream",
     "text": [
      "Chi-squared test:0.89855453013\n",
      "Range test: 0.8910682080071386\n"
     ]
    }
   ],
   "source": [
    "ss = 100 # seed value\n",
    "prng = SHA256(ss)\n",
    "\n",
    "prns = [prng.randint(1, 21) for i in range(10**7)]\n",
    "print(\"Chi-squared test:\" + str(conductChisqTest(prns, multiplier = 1)))\n",
    "print(\"Range test: \" + str(conductRangeTest(prns, multiplier = 1)))"
   ]
  },
  {
   "cell_type": "markdown",
   "metadata": {},
   "source": [
    "And we'll do it again, taking modulus instead of floor:"
   ]
  },
  {
   "cell_type": "code",
   "execution_count": 6,
   "metadata": {
    "collapsed": false
   },
   "outputs": [
    {
     "name": "stdout",
     "output_type": "stream",
     "text": [
      "Chi-squared test:0.480790370691\n",
      "Range test: 0.6811907587409376\n"
     ]
    }
   ],
   "source": [
    "ss = 100 # seed value\n",
    "prng = SHA256(ss)\n",
    "\n",
    "prns = [int(prng.nextRandom() % 13) for i in range(10**7)]\n",
    "print(\"Chi-squared test:\" + str(conductChisqTest(prns, multiplier = 1)))\n",
    "print(\"Range test: \" + str(conductRangeTest(prns, multiplier = 1)))"
   ]
  },
  {
   "cell_type": "markdown",
   "metadata": {},
   "source": [
    "## Kolmogorov-Smirnov test"
   ]
  },
  {
   "cell_type": "code",
   "execution_count": 7,
   "metadata": {
    "collapsed": true
   },
   "outputs": [],
   "source": [
    "ss = 100 # seed value\n",
    "prng = SHA256(ss)\n",
    "\n",
    "prns = prng.random(10**7)"
   ]
  },
  {
   "cell_type": "code",
   "execution_count": 8,
   "metadata": {
    "collapsed": false
   },
   "outputs": [
    {
     "data": {
      "text/plain": [
       "KstestResult(statistic=0.00044107848612390255, pvalue=0.04084928509400116)"
      ]
     },
     "execution_count": 8,
     "metadata": {},
     "output_type": "execute_result"
    }
   ],
   "source": [
    "kstest(prns, 'uniform')"
   ]
  },
  {
   "cell_type": "code",
   "execution_count": 9,
   "metadata": {
    "collapsed": false
   },
   "outputs": [
    {
     "data": {
      "image/png": "[encoded data removed]",
      "text/plain": [
       "<matplotlib.figure.Figure at 0x115e048d0>"
      ]
     },
     "metadata": {},
     "output_type": "display_data"
    }
   ],
   "source": [
    "plt.hist(prns, bins = 100)\n",
    "plt.show()"
   ]
  },
  {
   "cell_type": "markdown",
   "metadata": {},
   "source": [
    "Let's do a KS test for the difference between consecutive PRNs.  If, under the null, they are IID uniform(0,1), then the differences between consecutive values should be IID triangular with distribution\n",
    "\n",
    "$$\\mathbb{P}(U_1 - U_2 \\leq y) = -\\frac{sign(y)}{2}y^2 + y + \\frac{1}{2}$$"
   ]
  },
  {
   "cell_type": "code",
   "execution_count": 10,
   "metadata": {
    "collapsed": false
   },
   "outputs": [
    {
     "data": {
      "text/plain": [
       "KstestResult(statistic=0.00022022401190403829, pvalue=0.7172039453555028)"
      ]
     },
     "execution_count": 10,
     "metadata": {},
     "output_type": "execute_result"
    }
   ],
   "source": [
    "first_differences = prns[1:] - prns[:len(prns)-1]\n",
    "kstest(first_differences, lambda x: triang.cdf(x, c = 0.5, loc = -1, scale = 2))"
   ]
  },
  {
   "cell_type": "markdown",
   "metadata": {},
   "source": [
    "# Serial tests\n",
    "\n",
    "We'll use a chi-squared test to count how often pairs of integers occur."
   ]
  },
  {
   "cell_type": "code",
   "execution_count": 11,
   "metadata": {
    "collapsed": false
   },
   "outputs": [],
   "source": [
    "ss = 100 # seed value\n",
    "prng = SHA256(ss)\n",
    "\n",
    "bin_counts = [str(np.floor(prng.random()*100)) + \",\" + str(np.floor(prng.random()*100)) for i in range(int(10**7/2))]"
   ]
  },
  {
   "cell_type": "code",
   "execution_count": 12,
   "metadata": {
    "collapsed": false
   },
   "outputs": [
    {
     "name": "stdout",
     "output_type": "stream",
     "text": [
      "['20.0,90.0', '93.0,43.0', '84.0,74.0', '76.0,62.0', '67.0,3.0']\n"
     ]
    },
    {
     "data": {
      "text/plain": [
       "Power_divergenceResult(statistic=10152.828, pvalue=0.13852676704983599)"
      ]
     },
     "execution_count": 12,
     "metadata": {},
     "output_type": "execute_result"
    }
   ],
   "source": [
    "print(bin_counts[:5])\n",
    "bin_counts = itemfreq(bin_counts)\n",
    "chisquare(bin_counts[:,1].astype('int'))"
   ]
  },
  {
   "cell_type": "markdown",
   "metadata": {},
   "source": [
    "# Gap test\n",
    "\n",
    "For values $\\alpha < \\beta$, we say that a gap of length $r$ occurs when $U_j$ and $U_{j+r-1}$ lie in the interval $(\\alpha,\\beta)$ but $U_{j+1}, \\dots, U_{j + r - 2}$ do not. We want to count the number of gaps of size $0$, $1,$ up to size $t$ for some reasonable value.\n",
    "\n",
    "This is slightly different from Knuth's version.  He proposes generating random numbers until $n$ gaps are observed.  Instead, I will fix the sequence length and count how many gaps occur.  Then I'll condition on that number of gaps (same as the number of items in the range $(\\alpha, \\beta)$) to generate expected counts for each gap length."
   ]
  },
  {
   "cell_type": "code",
   "execution_count": 13,
   "metadata": {
    "collapsed": true
   },
   "outputs": [],
   "source": [
    "def gap_test(sequence, alpha, beta, t):\n",
    "    '''\n",
    "    inputs:\n",
    "    sequence = sequence of numbers between 0 and 1\n",
    "    alpha    = lower limit of interval\n",
    "    beta     = upper limit of interval\n",
    "    t        = max gap size (anything with gap larger than t will fall in the last category)\n",
    "    '''\n",
    "    # check\n",
    "    assert alpha >= 0\n",
    "    assert beta <= 1\n",
    "    assert alpha < beta\n",
    "    \n",
    "    # initialize\n",
    "    count = [0 for r in range(t+1)]\n",
    "    r = 0\n",
    "    n = len(sequence)\n",
    "    \n",
    "    # count gaps of size 0, 1, ..., >=t\n",
    "    for j in range(n):\n",
    "        if sequence[j] >= alpha and sequence[j] < beta:\n",
    "            if r >= t:\n",
    "                count[t] += 1\n",
    "            else:\n",
    "                count[r] += 1\n",
    "            r = 0\n",
    "        else:\n",
    "            r += 1\n",
    "            \n",
    "    # conduct chi-square test\n",
    "    p = beta-alpha\n",
    "    conditional_n = sum(count)\n",
    "    expected = [conditional_n*p*(1-p)**power for power in range(t)]\n",
    "    expected.append(conditional_n*(1-p)**t)\n",
    "    return {'observed' :  count,\n",
    "            'expected' : expected,\n",
    "            'p-value' : chisquare(count, expected)[1]}"
   ]
  },
  {
   "cell_type": "code",
   "execution_count": 14,
   "metadata": {
    "collapsed": false
   },
   "outputs": [],
   "source": [
    "#gap_test(prns, 0.25, 0.75, 5)"
   ]
  },
  {
   "cell_type": "markdown",
   "metadata": {},
   "source": [
    "# Coupon collector's test\n",
    "\n",
    "This test analyzes the number $r$ of items in the sequence $Y_j, Y_{j+1}, \\dots, Y_{j+r}$ (where $Y_j = \\lfloor d U_j \\rfloor$) to obtain all each of the integers $\\{0, 1, \\dots, d-1\\}$ at least once."
   ]
  },
  {
   "cell_type": "code",
   "execution_count": 15,
   "metadata": {
    "collapsed": false
   },
   "outputs": [],
   "source": [
    "def coupontest(sequence, d, t):\n",
    "    '''\n",
    "    Given a sequence of U(0,1) values, converts to integer values on {0, 1, ..., d-1}\n",
    "    and tests the length of 'runs' needed to hit each integer at least once.\n",
    "    The max run length considered is t.\n",
    "    '''\n",
    "\n",
    "    assert t >= d\n",
    "    \n",
    "    # convert to integer PRNs\n",
    "    sequence = [int(np.floor(d*val)) for val in sequence]\n",
    "    \n",
    "    # initialize\n",
    "    count = [0 for i in range(t+1)]\n",
    "    occurs = [0 for k in range(d)]\n",
    "    q = 0\n",
    "    r = 0\n",
    "    n = len(sequence)\n",
    "    \n",
    "    for j in range(n):\n",
    "        r += 1\n",
    "        if occurs[sequence[j]] == 0:\n",
    "            occurs[sequence[j]] = 1\n",
    "            q += 1\n",
    "            if q == d:\n",
    "                if r >= t:\n",
    "                    count[t] += 1\n",
    "                else:\n",
    "                    count[r] += 1\n",
    "                q = 0\n",
    "                r = 0\n",
    "                occurs = [0 for k in range(d)]\n",
    "        j += 1\n",
    "        \n",
    "    expected = [0 for i in range(t+1)]\n",
    "    conditional_n = sum(count)\n",
    "    expected[d:t] = [conditional_n*comb(r-1, d-1)*math.factorial(d)/d**r for r in range(d, t)]\n",
    "    expected[t] = conditional_n - sum(expected)\n",
    "    return {'observed' :  count,\n",
    "            'expected' : expected,\n",
    "            'p-value' : chisquare(count, expected)[1]}    \n",
    "\n",
    "\n",
    "\n",
    "#coupontest(prns, d=5, t=10) \n",
    "    "
   ]
  },
  {
   "cell_type": "markdown",
   "metadata": {},
   "source": [
    "# Permutation test\n",
    "\n",
    "This test looks at orderings of $t$-tuples $(U_{jt}, U_{jt + 1}, \\dots, U_{jt + t - 1})$ for $0 \\leq j < t$. In each tuple, there are $t!$ possible orderings."
   ]
  },
  {
   "cell_type": "code",
   "execution_count": 16,
   "metadata": {
    "collapsed": false
   },
   "outputs": [],
   "source": [
    "def conductPermTest(sequence, tuplelen):\n",
    "    '''\n",
    "    Break sequence into tuples of length tuplelen. Find the ordering of each tuple, and do a chi-squared test.\n",
    "    Under the null, each ordering has equal probability.\n",
    "    '''\n",
    "    \n",
    "    nperms = np.floor(len(sequence)/tuplelen)\n",
    "    counts = dict()\n",
    "    \n",
    "    for j in range(int(nperms)):\n",
    "        f = str(np.argsort(sequence[(j*tuplelen):(j*tuplelen + tuplelen )]))\n",
    "        if f in counts.keys():\n",
    "            counts[f] += 1\n",
    "        else:\n",
    "            counts[f] = 1\n",
    "    return chisquare(list(counts.values()))[1]\n",
    "\n",
    "#conductPermTest(prns[:10**5], 3)"
   ]
  },
  {
   "cell_type": "code",
   "execution_count": 17,
   "metadata": {
    "collapsed": false
   },
   "outputs": [],
   "source": [
    "#conductPermTest(prns[:10**5], 5)"
   ]
  },
  {
   "cell_type": "markdown",
   "metadata": {},
   "source": [
    "# Sample-by-index test\n",
    "\n",
    "This is a test that I've devised based on the sample_by_index method. The method is used to generate a SRS of size k from n.  Briefly, it works by sampling an integer from $\\{1, ..., n'\\}$ for $n' = n, n-1, ... n-k+1$.  These draws should be independent and we'd hope to get every possible combination with equal frequency.  The probabilities are $\\frac{(n-k)!}{n!}$.\n",
    "\n",
    "Note in the code below, we work with $\\{0, ..., n' - 1\\}$ for convenience."
   ]
  },
  {
   "cell_type": "code",
   "execution_count": 18,
   "metadata": {
    "collapsed": false
   },
   "outputs": [],
   "source": [
    "def conduct_sample_by_index_test(sequence, n, k):\n",
    "    nprime = n\n",
    "    j = 0\n",
    "    samp = []\n",
    "    counts = dict()\n",
    "    \n",
    "    for j in range(len(sequence)):\n",
    "        if nprime > n-k:\n",
    "            samp.append( np.floor(nprime * sequence[j]) )\n",
    "            nprime -= 1\n",
    "        else:\n",
    "            f = str(samp)\n",
    "            if f in counts.keys():\n",
    "                counts[f] += 1\n",
    "            else:\n",
    "                counts[f] = 1\n",
    "            nprime = n\n",
    "            samp = []\n",
    "\n",
    "    return {'counts' : counts,\n",
    "            'p-value' : chisquare(list(counts.values()))[1]}\n",
    "\n",
    "           \n",
    "#conduct_sample_by_index_test(prns[:10**6], n=10, k=3)"
   ]
  },
  {
   "cell_type": "markdown",
   "metadata": {},
   "source": [
    "# Compare seeds and sequence lengths"
   ]
  },
  {
   "cell_type": "code",
   "execution_count": 19,
   "metadata": {
    "collapsed": false
   },
   "outputs": [
    {
     "name": "stderr",
     "output_type": "stream",
     "text": [
      "/Library/Frameworks/Python.framework/Versions/3.4/lib/python3.4/site-packages/numpy/core/fromnumeric.py:224: VisibleDeprecationWarning: using a non-integer number instead of an integer will result in an error in the future\n",
      "  return reshape(newshape, order=order)\n",
      "/Library/Frameworks/Python.framework/Versions/3.4/lib/python3.4/site-packages/ipykernel/__main__.py:27: VisibleDeprecationWarning: using a non-integer number instead of an integer will result in an error in the future\n",
      "/Library/Frameworks/Python.framework/Versions/3.4/lib/python3.4/site-packages/ipykernel/__main__.py:28: VisibleDeprecationWarning: using a non-integer number instead of an integer will result in an error in the future\n",
      "/Library/Frameworks/Python.framework/Versions/3.4/lib/python3.4/site-packages/ipykernel/__main__.py:29: VisibleDeprecationWarning: using a non-integer number instead of an integer will result in an error in the future\n",
      "/Library/Frameworks/Python.framework/Versions/3.4/lib/python3.4/site-packages/ipykernel/__main__.py:30: VisibleDeprecationWarning: using a non-integer number instead of an integer will result in an error in the future\n",
      "/Library/Frameworks/Python.framework/Versions/3.4/lib/python3.4/site-packages/ipykernel/__main__.py:32: VisibleDeprecationWarning: using a non-integer number instead of an integer will result in an error in the future\n",
      "/Library/Frameworks/Python.framework/Versions/3.4/lib/python3.4/site-packages/ipykernel/__main__.py:33: VisibleDeprecationWarning: using a non-integer number instead of an integer will result in an error in the future\n"
     ]
    },
    {
     "name": "stdout",
     "output_type": "stream",
     "text": [
      "100 10000.0\n",
      "100 120000.0\n",
      "100 230000.0\n",
      "100 340000.0\n",
      "100 450000.0\n",
      "100 560000.0\n",
      "100 670000.0\n",
      "100 780000.0\n",
      "100 890000.0\n",
      "100 1000000.0\n",
      "233424280 10000.0\n",
      "233424280 120000.0\n",
      "233424280 230000.0\n",
      "233424280 340000.0\n",
      "233424280 450000.0\n",
      "233424280 560000.0\n",
      "233424280 670000.0\n",
      "233424280 780000.0\n",
      "233424280 890000.0\n",
      "233424280 1000000.0\n",
      "429496729 10000.0\n",
      "429496729 120000.0\n",
      "429496729 230000.0\n",
      "429496729 340000.0\n",
      "429496729 450000.0\n",
      "429496729 560000.0\n",
      "429496729 670000.0\n",
      "429496729 780000.0\n",
      "429496729 890000.0\n",
      "429496729 1000000.0\n"
     ]
    },
    {
     "data": {
      "text/html": [
       "<div>\n",
       "<table border=\"1\" class=\"dataframe\">\n",
       "  <thead>\n",
       "    <tr style=\"text-align: right;\">\n",
       "      <th></th>\n",
       "      <th>chisq</th>\n",
       "      <th>gaps</th>\n",
       "      <th>ks</th>\n",
       "      <th>ks_diffs</th>\n",
       "      <th>range</th>\n",
       "      <th>reps</th>\n",
       "      <th>samplebyindex</th>\n",
       "      <th>seed</th>\n",
       "    </tr>\n",
       "  </thead>\n",
       "  <tbody>\n",
       "    <tr>\n",
       "      <th>0</th>\n",
       "      <td>0.294843</td>\n",
       "      <td>0.963595</td>\n",
       "      <td>0.629757</td>\n",
       "      <td>0.748042</td>\n",
       "      <td>0.796931</td>\n",
       "      <td>10000.0</td>\n",
       "      <td>1.000000</td>\n",
       "      <td>100</td>\n",
       "    </tr>\n",
       "    <tr>\n",
       "      <th>1</th>\n",
       "      <td>0.288279</td>\n",
       "      <td>0.547274</td>\n",
       "      <td>0.997321</td>\n",
       "      <td>0.593732</td>\n",
       "      <td>0.111401</td>\n",
       "      <td>120000.0</td>\n",
       "      <td>0.114629</td>\n",
       "      <td>100</td>\n",
       "    </tr>\n",
       "    <tr>\n",
       "      <th>2</th>\n",
       "      <td>0.453282</td>\n",
       "      <td>0.489603</td>\n",
       "      <td>0.923794</td>\n",
       "      <td>0.601276</td>\n",
       "      <td>0.482670</td>\n",
       "      <td>230000.0</td>\n",
       "      <td>0.372070</td>\n",
       "      <td>100</td>\n",
       "    </tr>\n",
       "    <tr>\n",
       "      <th>3</th>\n",
       "      <td>0.135481</td>\n",
       "      <td>0.275038</td>\n",
       "      <td>0.800999</td>\n",
       "      <td>0.524260</td>\n",
       "      <td>0.707068</td>\n",
       "      <td>340000.0</td>\n",
       "      <td>0.085036</td>\n",
       "      <td>100</td>\n",
       "    </tr>\n",
       "    <tr>\n",
       "      <th>4</th>\n",
       "      <td>0.439809</td>\n",
       "      <td>0.131033</td>\n",
       "      <td>0.969593</td>\n",
       "      <td>0.604619</td>\n",
       "      <td>0.146669</td>\n",
       "      <td>450000.0</td>\n",
       "      <td>0.016665</td>\n",
       "      <td>100</td>\n",
       "    </tr>\n",
       "  </tbody>\n",
       "</table>\n",
       "</div>"
      ],
      "text/plain": [
       "      chisq      gaps        ks  ks_diffs     range      reps  samplebyindex  \\\n",
       "0  0.294843  0.963595  0.629757  0.748042  0.796931   10000.0       1.000000   \n",
       "1  0.288279  0.547274  0.997321  0.593732  0.111401  120000.0       0.114629   \n",
       "2  0.453282  0.489603  0.923794  0.601276  0.482670  230000.0       0.372070   \n",
       "3  0.135481  0.275038  0.800999  0.524260  0.707068  340000.0       0.085036   \n",
       "4  0.439809  0.131033  0.969593  0.604619  0.146669  450000.0       0.016665   \n",
       "\n",
       "   seed  \n",
       "0   100  \n",
       "1   100  \n",
       "2   100  \n",
       "3   100  \n",
       "4   100  "
      ]
     },
     "execution_count": 19,
     "metadata": {},
     "output_type": "execute_result"
    }
   ],
   "source": [
    "seedvalues = [100, 233424280, 429496729]\n",
    "reps = np.linspace(10**4, 10**6, num = 10)\n",
    "maxreps = reps[-1]\n",
    "\n",
    "# initialize\n",
    "seed_tracker = []\n",
    "reps_count = []\n",
    "chisq_pvalue = []\n",
    "range_pvalue = []\n",
    "ks_pvalue = []\n",
    "ks_diff_pvalue = []\n",
    "#serial_pvalue = []\n",
    "gaps_pvalue = []\n",
    "# coupon_pvalue = [] # this one isn't running quite right\n",
    "permutation_pvalue = []\n",
    "samplebyindex_pvalue = []\n",
    "\n",
    "for ss in seedvalues:\n",
    "    prng = SHA256(ss)\n",
    "    sequence = prng.random(maxreps)\n",
    "    first_differences = sequence[1:] - sequence[:len(sequence)-1]\n",
    "    \n",
    "    for rr in reps:\n",
    "        print(ss, rr)\n",
    "        seed_tracker.append(ss)\n",
    "        reps_count.append(rr)\n",
    "        chisq_pvalue.append(conductChisqTest(sequence[:rr]))\n",
    "        range_pvalue.append(conductRangeTest(sequence[:rr]))\n",
    "        ks_pvalue.append(kstest(sequence[:rr], 'uniform')[1])\n",
    "        ks_diff_pvalue.append(kstest(first_differences[:rr], lambda x: triang.cdf(x, c = 0.5, loc = -1, scale = 2))[1])\n",
    "#        serial_pvalue.append() # todo\n",
    "        gaps_pvalue.append(gap_test(sequence[:rr], 0.25, 0.75, 5)['p-value'])\n",
    "        samplebyindex_pvalue.append(conduct_sample_by_index_test(sequence[:rr], n=13, k=3)['p-value'])\n",
    "\n",
    "res = pd.DataFrame({'seed' : seed_tracker,\n",
    "                    'reps' :  reps_count,\n",
    "                    'chisq' : chisq_pvalue,\n",
    "                    'range' : range_pvalue,\n",
    "                    'ks' : ks_pvalue,\n",
    "                    'ks_diffs' : ks_diff_pvalue,\n",
    "                    'gaps' : gaps_pvalue,\n",
    "                    'samplebyindex' : samplebyindex_pvalue})\n",
    "res.head()\n"
   ]
  },
  {
   "cell_type": "code",
   "execution_count": 21,
   "metadata": {
    "collapsed": false
   },
   "outputs": [
    {
     "name": "stderr",
     "output_type": "stream",
     "text": [
      "/Library/Frameworks/Python.framework/Versions/3.4/lib/python3.4/site-packages/matplotlib/cbook.py:137: MatplotlibDeprecationWarning: The set_color_cycle attribute was deprecated in version 1.5. Use set_prop_cycle instead.\n",
      "  warnings.warn(message, mplDeprecation, stacklevel=1)\n"
     ]
    },
    {
     "data": {
      "image/png": "[encoded data removed]",
      "text/plain": [
       "<matplotlib.figure.Figure at 0x1086f95f8>"
      ]
     },
     "metadata": {},
     "output_type": "display_data"
    }
   ],
   "source": [
    "plt.gca().set_color_cycle(['red', 'green', 'blue', 'yellow'])\n",
    "\n",
    "plt.plot(res.reps[res.seed == seedvalues[0]], res.chisq[res.seed == seedvalues[0]])\n",
    "plt.plot(res.reps[res.seed == seedvalues[1]], res.chisq[res.seed == seedvalues[1]])\n",
    "plt.plot(res.reps[res.seed == seedvalues[2]], res.chisq[res.seed == seedvalues[2]])\n",
    "#plt.plot(res.reps[res.seed == seedvalues[3]], res.chisq[res.seed == seedvalues[3]])\n",
    "\n",
    "plt.legend(seedvalues, loc='upper left')\n",
    "plt.title(\"Chi-squared p-values\")\n",
    "plt.show()"
   ]
  },
  {
   "cell_type": "code",
   "execution_count": 22,
   "metadata": {
    "collapsed": false
   },
   "outputs": [
    {
     "name": "stderr",
     "output_type": "stream",
     "text": [
      "/Library/Frameworks/Python.framework/Versions/3.4/lib/python3.4/site-packages/matplotlib/cbook.py:137: MatplotlibDeprecationWarning: The set_color_cycle attribute was deprecated in version 1.5. Use set_prop_cycle instead.\n",
      "  warnings.warn(message, mplDeprecation, stacklevel=1)\n"
     ]
    },
    {
     "data": {
      "image/png": "[encoded data removed]",
      "text/plain": [
       "<matplotlib.figure.Figure at 0x108712a90>"
      ]
     },
     "metadata": {},
     "output_type": "display_data"
    }
   ],
   "source": [
    "plt.gca().set_color_cycle(['red', 'green', 'blue', 'yellow'])\n",
    "\n",
    "\n",
    "plt.plot(res.reps[res.seed == seedvalues[0]], res.range[res.seed == seedvalues[0]])\n",
    "plt.plot(res.reps[res.seed == seedvalues[1]], res.range[res.seed == seedvalues[1]])\n",
    "plt.plot(res.reps[res.seed == seedvalues[2]], res.range[res.seed == seedvalues[2]])\n",
    "#plt.plot(res.reps[res.seed == seedvalues[3]], res.range[res.seed == seedvalues[3]])\n",
    "\n",
    "plt.legend(seedvalues, loc='upper left')\n",
    "plt.title(\"Range p-values\")\n",
    "plt.show()"
   ]
  },
  {
   "cell_type": "code",
   "execution_count": 23,
   "metadata": {
    "collapsed": false
   },
   "outputs": [
    {
     "name": "stderr",
     "output_type": "stream",
     "text": [
      "/Library/Frameworks/Python.framework/Versions/3.4/lib/python3.4/site-packages/matplotlib/cbook.py:137: MatplotlibDeprecationWarning: The set_color_cycle attribute was deprecated in version 1.5. Use set_prop_cycle instead.\n",
      "  warnings.warn(message, mplDeprecation, stacklevel=1)\n"
     ]
    },
    {
     "data": {
      "image/png": "[encoded data removed]",
      "text/plain": [
       "<matplotlib.figure.Figure at 0x10947dc88>"
      ]
     },
     "metadata": {},
     "output_type": "display_data"
    }
   ],
   "source": [
    "plt.gca().set_color_cycle(['red', 'green', 'blue', 'yellow'])\n",
    "\n",
    "\n",
    "plt.plot(res.reps[res.seed == seedvalues[0]], res.samplebyindex[res.seed == seedvalues[0]])\n",
    "plt.plot(res.reps[res.seed == seedvalues[1]], res.samplebyindex[res.seed == seedvalues[1]])\n",
    "plt.plot(res.reps[res.seed == seedvalues[2]], res.samplebyindex[res.seed == seedvalues[2]])\n",
    "#plt.plot(res.reps[res.seed == seedvalues[3]], res.samplebyindex[res.seed == seedvalues[3]])\n",
    "\n",
    "plt.legend(seedvalues, loc='upper left')\n",
    "plt.title(\"sample_by_index test p-values\")\n",
    "plt.show()"
   ]
  },
  {
   "cell_type": "code",
   "execution_count": 24,
   "metadata": {
    "collapsed": false
   },
   "outputs": [
    {
     "name": "stderr",
     "output_type": "stream",
     "text": [
      "/Library/Frameworks/Python.framework/Versions/3.4/lib/python3.4/site-packages/matplotlib/cbook.py:137: MatplotlibDeprecationWarning: The set_color_cycle attribute was deprecated in version 1.5. Use set_prop_cycle instead.\n",
      "  warnings.warn(message, mplDeprecation, stacklevel=1)\n"
     ]
    },
    {
     "data": {
      "image/png": "[encoded data removed]",
      "text/plain": [
       "<matplotlib.figure.Figure at 0x1085da4a8>"
      ]
     },
     "metadata": {},
     "output_type": "display_data"
    }
   ],
   "source": [
    "plt.gca().set_color_cycle(['red', 'green', 'blue', 'yellow'])\n",
    "\n",
    "\n",
    "plt.plot(res.reps[res.seed == seedvalues[0]], res.ks[res.seed == seedvalues[0]])\n",
    "plt.plot(res.reps[res.seed == seedvalues[1]], res.ks[res.seed == seedvalues[1]])\n",
    "plt.plot(res.reps[res.seed == seedvalues[2]], res.ks[res.seed == seedvalues[2]])\n",
    "#plt.plot(res.reps[res.seed == seedvalues[3]], res.ks[res.seed == seedvalues[3]])\n",
    "\n",
    "plt.legend(seedvalues, loc='upper left')\n",
    "plt.title(\"KS test p-values\")\n",
    "plt.show()"
   ]
  },
  {
   "cell_type": "code",
   "execution_count": 25,
   "metadata": {
    "collapsed": false
   },
   "outputs": [
    {
     "name": "stderr",
     "output_type": "stream",
     "text": [
      "/Library/Frameworks/Python.framework/Versions/3.4/lib/python3.4/site-packages/matplotlib/cbook.py:137: MatplotlibDeprecationWarning: The set_color_cycle attribute was deprecated in version 1.5. Use set_prop_cycle instead.\n",
      "  warnings.warn(message, mplDeprecation, stacklevel=1)\n"
     ]
    },
    {
     "data": {
      "image/png": "[encoded data removed]",
      "text/plain": [
       "<matplotlib.figure.Figure at 0x104b4e860>"
      ]
     },
     "metadata": {},
     "output_type": "display_data"
    }
   ],
   "source": [
    "plt.gca().set_color_cycle(['red', 'green', 'blue', 'yellow'])\n",
    "\n",
    "\n",
    "plt.plot(res.reps[res.seed == seedvalues[0]], res.ks_diffs[res.seed == seedvalues[0]])\n",
    "plt.plot(res.reps[res.seed == seedvalues[1]], res.ks_diffs[res.seed == seedvalues[1]])\n",
    "plt.plot(res.reps[res.seed == seedvalues[2]], res.ks_diffs[res.seed == seedvalues[2]])\n",
    "#plt.plot(res.reps[res.seed == seedvalues[3]], res.ks_diffs[res.seed == seedvalues[3]])\n",
    "\n",
    "plt.legend(seedvalues, loc='upper left')\n",
    "plt.title(\"KS test of first differences p-values\")\n",
    "plt.show()"
   ]
  },
  {
   "cell_type": "code",
   "execution_count": 26,
   "metadata": {
    "collapsed": false
   },
   "outputs": [
    {
     "name": "stderr",
     "output_type": "stream",
     "text": [
      "/Library/Frameworks/Python.framework/Versions/3.4/lib/python3.4/site-packages/matplotlib/cbook.py:137: MatplotlibDeprecationWarning: The set_color_cycle attribute was deprecated in version 1.5. Use set_prop_cycle instead.\n",
      "  warnings.warn(message, mplDeprecation, stacklevel=1)\n"
     ]
    },
    {
     "data": {
      "image/png": "[encoded data removed]",
      "text/plain": [
       "<matplotlib.figure.Figure at 0x108a270b8>"
      ]
     },
     "metadata": {},
     "output_type": "display_data"
    }
   ],
   "source": [
    "plt.gca().set_color_cycle(['red', 'green', 'blue', 'yellow'])\n",
    "\n",
    "\n",
    "plt.plot(res.reps[res.seed == seedvalues[0]], res.gaps[res.seed == seedvalues[0]])\n",
    "plt.plot(res.reps[res.seed == seedvalues[1]], res.gaps[res.seed == seedvalues[1]])\n",
    "plt.plot(res.reps[res.seed == seedvalues[2]], res.gaps[res.seed == seedvalues[2]])\n",
    "#plt.plot(res.reps[res.seed == seedvalues[3]], res.gaps[res.seed == seedvalues[3]])\n",
    "\n",
    "plt.legend(seedvalues, loc='upper left')\n",
    "plt.title(\"Gap test p-values\")\n",
    "plt.show()"
   ]
  },
  {
   "cell_type": "code",
   "execution_count": 35,
   "metadata": {
    "collapsed": false
   },
   "outputs": [
    {
     "data": {
      "text/html": [
       "<div>\n",
       "<table border=\"1\" class=\"dataframe\">\n",
       "  <thead>\n",
       "    <tr style=\"text-align: right;\">\n",
       "      <th></th>\n",
       "      <th>seed</th>\n",
       "      <th>reps</th>\n",
       "      <th>chisq</th>\n",
       "      <th>range</th>\n",
       "      <th>ks</th>\n",
       "      <th>ks_diffs</th>\n",
       "      <th>gaps</th>\n",
       "      <th>samplebyindex</th>\n",
       "    </tr>\n",
       "  </thead>\n",
       "  <tbody>\n",
       "    <tr>\n",
       "      <th>0</th>\n",
       "      <td>100</td>\n",
       "      <td>10000.0</td>\n",
       "      <td>0.294843</td>\n",
       "      <td>0.796931</td>\n",
       "      <td>0.629757</td>\n",
       "      <td>0.748042</td>\n",
       "      <td>0.963595</td>\n",
       "      <td>1.0</td>\n",
       "    </tr>\n",
       "    <tr>\n",
       "      <th>10</th>\n",
       "      <td>233424280</td>\n",
       "      <td>10000.0</td>\n",
       "      <td>0.244928</td>\n",
       "      <td>0.542738</td>\n",
       "      <td>0.065846</td>\n",
       "      <td>0.572517</td>\n",
       "      <td>0.217371</td>\n",
       "      <td>1.0</td>\n",
       "    </tr>\n",
       "    <tr>\n",
       "      <th>20</th>\n",
       "      <td>429496729</td>\n",
       "      <td>10000.0</td>\n",
       "      <td>0.914360</td>\n",
       "      <td>0.951645</td>\n",
       "      <td>0.019104</td>\n",
       "      <td>0.869467</td>\n",
       "      <td>0.881612</td>\n",
       "      <td>1.0</td>\n",
       "    </tr>\n",
       "  </tbody>\n",
       "</table>\n",
       "</div>"
      ],
      "text/plain": [
       "         seed     reps     chisq     range        ks  ks_diffs      gaps  \\\n",
       "0         100  10000.0  0.294843  0.796931  0.629757  0.748042  0.963595   \n",
       "10  233424280  10000.0  0.244928  0.542738  0.065846  0.572517  0.217371   \n",
       "20  429496729  10000.0  0.914360  0.951645  0.019104  0.869467  0.881612   \n",
       "\n",
       "    samplebyindex  \n",
       "0             1.0  \n",
       "10            1.0  \n",
       "20            1.0  "
      ]
     },
     "execution_count": 35,
     "metadata": {},
     "output_type": "execute_result"
    }
   ],
   "source": [
    "colOrder = ['seed', 'reps', 'chisq', 'range', 'ks', 'ks_diffs', 'gaps', 'samplebyindex']\n",
    "res[res.reps == 10**4][colOrder]"
   ]
  },
  {
   "cell_type": "code",
   "execution_count": 36,
   "metadata": {
    "collapsed": false
   },
   "outputs": [
    {
     "data": {
      "text/html": [
       "<div>\n",
       "<table border=\"1\" class=\"dataframe\">\n",
       "  <thead>\n",
       "    <tr style=\"text-align: right;\">\n",
       "      <th></th>\n",
       "      <th>seed</th>\n",
       "      <th>reps</th>\n",
       "      <th>chisq</th>\n",
       "      <th>range</th>\n",
       "      <th>ks</th>\n",
       "      <th>ks_diffs</th>\n",
       "      <th>gaps</th>\n",
       "      <th>samplebyindex</th>\n",
       "    </tr>\n",
       "  </thead>\n",
       "  <tbody>\n",
       "    <tr>\n",
       "      <th>5</th>\n",
       "      <td>100</td>\n",
       "      <td>560000.0</td>\n",
       "      <td>0.814126</td>\n",
       "      <td>0.182826</td>\n",
       "      <td>0.862905</td>\n",
       "      <td>0.622523</td>\n",
       "      <td>0.090499</td>\n",
       "      <td>0.018675</td>\n",
       "    </tr>\n",
       "    <tr>\n",
       "      <th>15</th>\n",
       "      <td>233424280</td>\n",
       "      <td>560000.0</td>\n",
       "      <td>0.232481</td>\n",
       "      <td>0.005940</td>\n",
       "      <td>0.788071</td>\n",
       "      <td>0.981630</td>\n",
       "      <td>0.476079</td>\n",
       "      <td>0.486933</td>\n",
       "    </tr>\n",
       "    <tr>\n",
       "      <th>25</th>\n",
       "      <td>429496729</td>\n",
       "      <td>560000.0</td>\n",
       "      <td>0.461084</td>\n",
       "      <td>0.673531</td>\n",
       "      <td>0.347606</td>\n",
       "      <td>0.820467</td>\n",
       "      <td>0.145427</td>\n",
       "      <td>0.499286</td>\n",
       "    </tr>\n",
       "  </tbody>\n",
       "</table>\n",
       "</div>"
      ],
      "text/plain": [
       "         seed      reps     chisq     range        ks  ks_diffs      gaps  \\\n",
       "5         100  560000.0  0.814126  0.182826  0.862905  0.622523  0.090499   \n",
       "15  233424280  560000.0  0.232481  0.005940  0.788071  0.981630  0.476079   \n",
       "25  429496729  560000.0  0.461084  0.673531  0.347606  0.820467  0.145427   \n",
       "\n",
       "    samplebyindex  \n",
       "5        0.018675  \n",
       "15       0.486933  \n",
       "25       0.499286  "
      ]
     },
     "execution_count": 36,
     "metadata": {},
     "output_type": "execute_result"
    }
   ],
   "source": [
    "res[res.reps == 5.6*10**5][colOrder]"
   ]
  },
  {
   "cell_type": "code",
   "execution_count": 37,
   "metadata": {
    "collapsed": false
   },
   "outputs": [
    {
     "data": {
      "text/html": [
       "<div>\n",
       "<table border=\"1\" class=\"dataframe\">\n",
       "  <thead>\n",
       "    <tr style=\"text-align: right;\">\n",
       "      <th></th>\n",
       "      <th>seed</th>\n",
       "      <th>reps</th>\n",
       "      <th>chisq</th>\n",
       "      <th>range</th>\n",
       "      <th>ks</th>\n",
       "      <th>ks_diffs</th>\n",
       "      <th>gaps</th>\n",
       "      <th>samplebyindex</th>\n",
       "    </tr>\n",
       "  </thead>\n",
       "  <tbody>\n",
       "    <tr>\n",
       "      <th>9</th>\n",
       "      <td>100</td>\n",
       "      <td>1000000.0</td>\n",
       "      <td>0.804916</td>\n",
       "      <td>0.515967</td>\n",
       "      <td>0.816254</td>\n",
       "      <td>0.832752</td>\n",
       "      <td>0.102904</td>\n",
       "      <td>0.344508</td>\n",
       "    </tr>\n",
       "    <tr>\n",
       "      <th>19</th>\n",
       "      <td>233424280</td>\n",
       "      <td>1000000.0</td>\n",
       "      <td>0.209715</td>\n",
       "      <td>0.857136</td>\n",
       "      <td>0.561070</td>\n",
       "      <td>0.988412</td>\n",
       "      <td>0.544490</td>\n",
       "      <td>0.825887</td>\n",
       "    </tr>\n",
       "    <tr>\n",
       "      <th>29</th>\n",
       "      <td>429496729</td>\n",
       "      <td>1000000.0</td>\n",
       "      <td>0.780622</td>\n",
       "      <td>0.905680</td>\n",
       "      <td>0.713914</td>\n",
       "      <td>0.392765</td>\n",
       "      <td>0.221638</td>\n",
       "      <td>0.878818</td>\n",
       "    </tr>\n",
       "  </tbody>\n",
       "</table>\n",
       "</div>"
      ],
      "text/plain": [
       "         seed       reps     chisq     range        ks  ks_diffs      gaps  \\\n",
       "9         100  1000000.0  0.804916  0.515967  0.816254  0.832752  0.102904   \n",
       "19  233424280  1000000.0  0.209715  0.857136  0.561070  0.988412  0.544490   \n",
       "29  429496729  1000000.0  0.780622  0.905680  0.713914  0.392765  0.221638   \n",
       "\n",
       "    samplebyindex  \n",
       "9        0.344508  \n",
       "19       0.825887  \n",
       "29       0.878818  "
      ]
     },
     "execution_count": 37,
     "metadata": {},
     "output_type": "execute_result"
    }
   ],
   "source": [
    "res[res.reps == 10**6][colOrder]"
   ]
  },
  {
   "cell_type": "code",
   "execution_count": null,
   "metadata": {
    "collapsed": true
   },
   "outputs": [],
   "source": []
  }
 ],
 "metadata": {
  "kernelspec": {
   "display_name": "Python 3",
   "language": "python",
   "name": "python3"
  },
  "language_info": {
   "codemirror_mode": {
    "name": "ipython",
    "version": 3
   },
   "file_extension": ".py",
   "mimetype": "text/x-python",
   "name": "python",
   "nbconvert_exporter": "python",
   "pygments_lexer": "ipython3",
   "version": "3.4.3"
  }
 },
 "nbformat": 4,
 "nbformat_minor": 1
}
